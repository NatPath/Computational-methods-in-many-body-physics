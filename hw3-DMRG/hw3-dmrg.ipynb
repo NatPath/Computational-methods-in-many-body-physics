{
 "cells": [
  {
   "cell_type": "code",
   "execution_count": 2,
   "id": "0a5bd7c8",
   "metadata": {
    "scrolled": true
   },
   "outputs": [],
   "source": [
    "using ITensors"
   ]
  },
  {
   "cell_type": "code",
   "execution_count": 8,
   "id": "9a4154a7",
   "metadata": {
    "scrolled": true
   },
   "outputs": [],
   "source": [
    "using Plots"
   ]
  },
  {
   "cell_type": "code",
   "execution_count": 5,
   "id": "dd42b64c",
   "metadata": {},
   "outputs": [],
   "source": [
    "function Calc_SvN(psi::MPS, b::Int64)\n",
    "    # Orthogonalize the MPS at bond index b\n",
    "    orthogonalize!(psi, b)\n",
    "\n",
    "    # Perform Singular Value Decomposition (SVD)\n",
    "    U, S, V = svd(psi[b], (linkind(psi, b-1), siteind(psi, b)))\n",
    "\n",
    "    # Calculate von Neumann entropy\n",
    "    SvN = 0.0\n",
    "    for n = 1:dim(S, 1)\n",
    "        p = S[n, n]^2\n",
    "        SvN -= p * log(p)\n",
    "    end\n",
    "\n",
    "    return SvN\n",
    "end;"
   ]
  },
  {
   "cell_type": "code",
   "execution_count": 6,
   "id": "9f88ab33",
   "metadata": {},
   "outputs": [],
   "source": [
    "function TFIM_DMRG(N::Int64, h::Float64, swp_num::Int64, maxM::Int64)\n",
    "\"\"\"\n",
    "    TFIM_DMRG(N::Int64, h::Float64, swp_num::Int64, maxM::Int64)\n",
    "\n",
    "    Perform a Density Matrix Renormalization Group (DMRG) simulation for the Transverse Field Ising Model (TFIM) on a 1D chain.\n",
    "\n",
    "    Parameters:\n",
    "    - `N::Int64`: Number of sites in the 1D quantum system.\n",
    "    - `h::Float64`: Transverse field strength in the TFIM Hamiltonian.\n",
    "    - `swp_num::Int64`: Number of DMRG sweeps.\n",
    "    - `maxM::Int64`: Maximum bond dimension.\n",
    "\n",
    "    Returns:\n",
    "    - `energy::Float64`: Ground state energy obtained from the DMRG simulation.\n",
    "    - `psi::MPS`: Matrix Product State (MPS) representing the ground state of the quantum system after DMRG.\n",
    "\"\"\"\n",
    "    # Generate an index set representing quantum sites with spin S=1/2\n",
    "    sites = siteinds(\"S=1/2\", N)\n",
    "\n",
    "    # Initialize an operator sum representing the Hamiltonian using ITensors\n",
    "    ampo = OpSum()\n",
    "\n",
    "    # Construct the Hamiltonian operator for the TFIM\n",
    "    for j = 1:N\n",
    "        if j < N\n",
    "            # Interaction term between neighboring spins (Sz-Sz)\n",
    "            ampo += -2.0, \"Sz\", j, \"Sz\", j + 1\n",
    "        end\n",
    "        # Transverse field term (Sx) at each site\n",
    "        ampo += -h, \"Sx\", j\n",
    "    end\n",
    "\n",
    "    # Convert the operator sum to a Matrix Product Operator (MPO)\n",
    "    H = MPO(ampo, sites)\n",
    "\n",
    "    # Initialize the initial state to a random maxM=10 state \n",
    "    psi0 = randomMPS(sites,10)\n",
    "\n",
    "    # Set up parameters for the DMRG (Density Matrix Renormalization Group) algorithm\n",
    "    sweeps = Sweeps(swp_num)\n",
    "    setmaxdim!(sweeps, maxM)\n",
    "    setcutoff!(sweeps, 1E-16)\n",
    "\n",
    "    # Perform the DMRG simulation to obtain the ground state energy and MPS representation\n",
    "    energy, psi = dmrg(H, psi0, sweeps)\n",
    "\n",
    "    return energy, psi\n",
    "end;"
   ]
  },
  {
   "cell_type": "code",
   "execution_count": 7,
   "id": "0f5620ab",
   "metadata": {},
   "outputs": [
    {
     "name": "stdout",
     "output_type": "stream",
     "text": [
      "After sweep 1 energy=-19.552487159036072  maxlinkdim=20 maxerr=6.72E-11 time=24.199\n",
      "After sweep 2 energy=-19.552534465172567  maxlinkdim=16 maxerr=2.54E-14 time=0.084\n",
      "After sweep 3 energy=-19.552534465211917  maxlinkdim=3 maxerr=9.57E-17 time=0.055\n",
      "After sweep 4 energy=-19.552534465211927  maxlinkdim=3 maxerr=6.63E-17 time=0.077\n",
      "After sweep 5 energy=-19.552534465211938  maxlinkdim=3 maxerr=6.63E-17 time=0.046\n",
      "After sweep 6 energy=-19.552534465211938  maxlinkdim=3 maxerr=6.63E-17 time=0.045\n",
      "After sweep 7 energy=-19.552534465211938  maxlinkdim=3 maxerr=6.63E-17 time=0.055\n",
      "After sweep 8 energy=-19.552534465211938  maxlinkdim=3 maxerr=6.63E-17 time=0.056\n",
      "After sweep 9 energy=-19.552534465211938  maxlinkdim=3 maxerr=6.63E-17 time=0.083\n",
      "After sweep 10 energy=-19.552534465211938  maxlinkdim=3 maxerr=6.63E-17 time=0.044\n",
      "After sweep 11 energy=-19.552534465211938  maxlinkdim=3 maxerr=6.63E-17 time=0.048\n",
      "After sweep 12 energy=-19.552534465211938  maxlinkdim=3 maxerr=6.63E-17 time=0.061\n",
      "After sweep 13 energy=-19.552534465211938  maxlinkdim=3 maxerr=6.63E-17 time=0.063\n",
      "After sweep 14 energy=-19.552534465211938  maxlinkdim=3 maxerr=6.63E-17 time=0.081\n",
      "After sweep 15 energy=-19.552534465211938  maxlinkdim=3 maxerr=6.63E-17 time=0.047\n",
      "After sweep 16 energy=-19.552534465211938  maxlinkdim=3 maxerr=6.63E-17 time=0.047\n",
      "After sweep 17 energy=-19.552534465211938  maxlinkdim=3 maxerr=6.63E-17 time=0.055\n",
      "After sweep 18 energy=-19.552534465211938  maxlinkdim=3 maxerr=6.63E-17 time=0.056\n",
      "After sweep 19 energy=-19.552534465211938  maxlinkdim=3 maxerr=6.63E-17 time=0.077\n",
      "After sweep 20 energy=-19.552534465211938  maxlinkdim=3 maxerr=6.63E-17 time=0.046\n"
     ]
    }
   ],
   "source": [
    "N = 40\n",
    "h = 0.1\n",
    "swp_num = 20\n",
    "maxM = 20\n",
    "energy, psi = TFIM_DMRG(N, h, swp_num, maxM);"
   ]
  },
  {
   "cell_type": "markdown",
   "id": "e4f8b4bd",
   "metadata": {},
   "source": [
    "# 1. J1-J2 spin 1/2 chain"
   ]
  },
  {
   "cell_type": "markdown",
   "id": "c29da112",
   "metadata": {},
   "source": [
    "## 1. Heisenberg Hamiltonian construction for finite J2 term"
   ]
  },
  {
   "cell_type": "markdown",
   "id": "30460f05",
   "metadata": {},
   "source": [
    "Using\n",
    "\n",
    "$\\vec{S_{i}\\cdot}\\vec{S}_{j}=S_{i}^{z}S_{j}^{z}+\\frac{1}{2}(S_{i}^{+}S_{j}^{-}+S_{i}^{-}S_{j}^{+})$\n",
    "\n",
    "The hamiltonian gets the form\n",
    "\n",
    "$ H=J_{1}\\sum_{i}\\vec{S_{i}\\cdot}\\vec{S}_{i+1}+J_{2}\\sum_{i}\\vec{S_{i}}\\cdot\\vec{S_{i+2}}$\n",
    "\n",
    "$=J_{1}\\sum_{i}\\left(S_{i}^{z}S_{i+1}^{z}+\\frac{1}{2}(S_{i}^{+}S_{i+1}^{-}+S_{i}^{-}S_{i+1}^{+})\\right)+J_{2}\\sum_{i}\\left(S_{i}^{z}S_{i+2}^{z}+\\frac{1}{2}(S_{i}^{+}S_{i+2}^{-}+S_{i}^{-}S_{i+2}^{+})\\right) $\n",
    "\n",
    "Generalization of the method seen in class 6 for the MPO will lead to the matrices"
   ]
  },
  {
   "cell_type": "markdown",
   "id": "53f3eb9e",
   "metadata": {},
   "source": [
    "\n",
    "$W_{(L)}=\\left(\\begin{array}{c}\n",
    "I\\\\\n",
    "S^{z}\\\\\n",
    "S^{+}\\\\\n",
    "S^{-}\\\\\n",
    "0\\\\\n",
    "0\\\\\n",
    "0\\\\\n",
    "0\n",
    "\\end{array}\\right)$\n",
    "\n",
    "$W_{(i)}=\\left(\\begin{array}{cccccccc}\n",
    "I & 0 & 0 & 0 & 0 & 0 & 0 & 0\\\\\n",
    "S^{z} & 0 & 0 & 0 & 0 & 0 & 0 & 0\\\\\n",
    "S^{+} & 0 & 0 & 0 & 0 & 0 & 0 & 0\\\\\n",
    "S^{-} & 0 & 0 & 0 & 0 & 0 & 0 & 0\\\\\n",
    "0 & I & 0 & 0 & 0 & 0 & 0 & 0\\\\\n",
    "0 & 0 & I & 0 & 0 & 0 & 0 & 0\\\\\n",
    "0 & 0 & 0 & I & 0 & 0 & 0 & 0\\\\\n",
    "0 & J_{1}S^{z} & \\frac{J_{1}}{2}S^{-} & \\frac{J_{1}}{2}S^{+} & J_{2}S^{z} & \\frac{J_{2}}{2}S^{-} & \\frac{J_{2}}{2}S^{+} & I\n",
    "\\end{array}\\right)$\n",
    "\n",
    "$W_{(1)}=\\left(\\begin{array}{cccccccc}\n",
    "0 & J_{1}S^{z} & \\frac{J_{1}}{2}S^{-} & \\frac{J_{1}}{2}S^{+} & J_{2}S^{z} & \\frac{J_{2}}{2}S^{-} & \\frac{J_{2}}{2}S^{+} & I\\end{array}\\right)$"
   ]
  },
  {
   "cell_type": "code",
   "execution_count": null,
   "id": "d9051cb7",
   "metadata": {},
   "outputs": [],
   "source": []
  }
 ],
 "metadata": {
  "kernelspec": {
   "display_name": "Julia 1.10.2",
   "language": "julia",
   "name": "julia-1.10"
  },
  "language_info": {
   "file_extension": ".jl",
   "mimetype": "application/julia",
   "name": "julia",
   "version": "1.10.2"
  }
 },
 "nbformat": 4,
 "nbformat_minor": 5
}
