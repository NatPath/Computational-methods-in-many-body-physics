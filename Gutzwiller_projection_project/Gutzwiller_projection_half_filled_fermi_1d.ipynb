{
 "cells": [
  {
   "cell_type": "code",
   "execution_count": 1,
   "id": "841a2148",
   "metadata": {},
   "outputs": [],
   "source": [
    "using Random, LinearAlgebra, Plots, Polynomials, LsqFit"
   ]
  },
  {
   "cell_type": "code",
   "execution_count": 2,
   "id": "93365999",
   "metadata": {},
   "outputs": [],
   "source": [
    "using Combinatorics"
   ]
  },
  {
   "cell_type": "code",
   "execution_count": 3,
   "id": "7744875c",
   "metadata": {},
   "outputs": [],
   "source": [
    "using Permutations"
   ]
  },
  {
   "cell_type": "code",
   "execution_count": 4,
   "id": "b1c7a611",
   "metadata": {},
   "outputs": [],
   "source": [
    "function A_matrix_calc(a_vecs,indices)\n",
    "    N = length(indices)\n",
    "    A = zeros(N,N)\n",
    "    for j in 1:N\n",
    "        for k in 1:N\n",
    "            A[j,k]=a_vecs[j,indices[k]]\n",
    "        end\n",
    "    end\n",
    "    return A\n",
    "end;"
   ]
  },
  {
   "cell_type": "code",
   "execution_count": 5,
   "id": "a534167b",
   "metadata": {},
   "outputs": [],
   "source": [
    "function generate_binary_vectors(N)\n",
    "    # Check if N is even\n",
    "    permutations_arr = fill(zeros(Int, N), binomial(N,N÷2))\n",
    "\n",
    "    @assert N % 2 == 0\n",
    "    \n",
    "    # Generate all combinations of N/2 ones\n",
    "    for (i,combo) in enumerate(combinations(1:N, N ÷ 2))\n",
    "        # Create a binary vector with all zeros\n",
    "        vector = zeros(Int, N)\n",
    "        \n",
    "        # Set the positions in the combination to 1\n",
    "        for pos in combo\n",
    "            vector[pos] = 1\n",
    "        end\n",
    "        \n",
    "        # Print or process the binary vector\n",
    "        permutations_arr[i]=vector\n",
    "    end\n",
    "    return permutations_arr\n",
    "end;"
   ]
  },
  {
   "cell_type": "code",
   "execution_count": 6,
   "id": "3fefc08b",
   "metadata": {},
   "outputs": [],
   "source": [
    "# Define the tight binding Hamiltonian\n",
    "function tight_binding_hamiltonian_single_spin(N, t=1)\n",
    "    diag = -t * ones(N-1)\n",
    "    H_sp = diagm(1=>diag, -1=>diag)\n",
    "    H_sp[1,N] = -t  #for PBC\n",
    "    H_sp[N,1] = -t  #for PBC\n",
    "    return H_sp\n",
    "end;"
   ]
  },
  {
   "cell_type": "code",
   "execution_count": 7,
   "id": "ec9c8324",
   "metadata": {},
   "outputs": [
    {
     "data": {
      "text/plain": [
       "3432"
      ]
     },
     "execution_count": 7,
     "metadata": {},
     "output_type": "execute_result"
    }
   ],
   "source": [
    "N=14\n",
    "binomial(N,N÷2)"
   ]
  },
  {
   "cell_type": "code",
   "execution_count": 8,
   "id": "f0fa3da5",
   "metadata": {},
   "outputs": [],
   "source": [
    "function find_indices(binary_vector)\n",
    "    # Find indices of ones\n",
    "    indices_ones = findall(x -> x == 1, binary_vector)\n",
    "    \n",
    "    # Find indices of zeros\n",
    "    indices_zeros = findall(x -> x == 0, binary_vector)\n",
    "    \n",
    "    return indices_ones, indices_zeros\n",
    "end;"
   ]
  },
  {
   "cell_type": "code",
   "execution_count": 49,
   "id": "bda7f70a",
   "metadata": {},
   "outputs": [],
   "source": [
    "function calc_gutz_coef(config,eigenvectors)\n",
    "    indices_ones,indices_zeros=find_indices(config)\n",
    "    @assert length(indices_ones) == length(indices_zeros)\n",
    "    indices_permutations = [indices_zeros;indices_ones]\n",
    "    p = Permutation(indices_permutations)\n",
    "    sign_p = sign(p)\n",
    "    A1 = A_matrix_calc(eigenvectors'[1:end÷2,:],indices_ones)\n",
    "    A0 = A_matrix_calc(eigenvectors'[1:end÷2,:],indices_zeros)\n",
    "    return sign_p*det(A0)*det(A1)\n",
    "end;"
   ]
  },
  {
   "cell_type": "code",
   "execution_count": 14,
   "id": "07d7b277",
   "metadata": {},
   "outputs": [],
   "source": [
    "function swap_particles_in_bond_i(configuration,i)\n",
    "    N= length(configuration)\n",
    "    config_copy=copy(configuration)\n",
    "    config_copy[i]=configuration[i%N+1]\n",
    "    config_copy[i%N+1]=configuration[i]\n",
    "    return config_copy\n",
    "end;"
   ]
  },
  {
   "cell_type": "code",
   "execution_count": 11,
   "id": "8a761cb0",
   "metadata": {},
   "outputs": [],
   "source": [
    "function possible_variations(config)\n",
    "    N=length(config)\n",
    "    opposite_spins_bonds_indices = []\n",
    "    for i in 1:N\n",
    "        if config[i] != config[i%N+1]\n",
    "            append!(opposite_spins_bonds_indices,i)\n",
    "        end\n",
    "    end\n",
    "    \n",
    "    variations = Vector{Vector{Int}}()\n",
    "    for (i, bond) in enumerate(opposite_spins_bonds_indices)\n",
    "        variation = swap_particles_in_bond_i(config,bond)\n",
    "        push!(variations, variation)\n",
    "    end\n",
    "    return variations\n",
    "    \n",
    "end;"
   ]
  },
  {
   "cell_type": "code",
   "execution_count": 44,
   "id": "b32ca7a3",
   "metadata": {},
   "outputs": [],
   "source": [
    "function VMC_Hheisenberg_with_gutzwiller_projection_of_half_filled_fermi_sea_ansatz(N,steps)\n",
    "    # ED the tight binding hamiltonian to find a_i coefficients\n",
    "    H=tight_binding_hamiltonian_single_spin(N)\n",
    "    eigenvalues, eigenvectors = eigen(H);\n",
    "    \n",
    "    # prepare configurations\n",
    "    possible_ising_configurations = generate_binary_vectors(N)\n",
    "    num_of_ising_configurations = length(possible_ising_configurations)\n",
    "    \n",
    "    initial_config_index = rand(1:num_of_ising_configurations)\n",
    "    α = possible_ising_configurations[initial_config_index]\n",
    "    sum=0\n",
    "    \n",
    "    for i in 1:steps\n",
    "        local_min_flag = true\n",
    "        α_gutz_coef = calc_gutz_coef(α,eigenvectors)\n",
    "        possible_variations_of_α = possible_variations(α)\n",
    "\n",
    "        temp_sum= 0\n",
    "        # count the trivial contributions from β=α\n",
    "        temp_sum += (N-length(possible_variations_of_α))/4\n",
    "        #\n",
    "        for β in possible_variations_of_α\n",
    "            β_gutz_coef = calc_gutz_coef(β,eigenvectors)\n",
    "            addition_to_sum = 0.5*β_gutz_coef/α_gutz_coef\n",
    "            temp_sum += addition_to_sum\n",
    "        end\n",
    "        for α′ in possible_variations_of_α\n",
    "            α′_gutz_coef = calc_gutz_coef(α′,eigenvectors)\n",
    "            ratio= (α′_gutz_coef^2)/(α_gutz_coef^2)\n",
    "            if rand() <= ratio\n",
    "                #accept change\n",
    "                α=α′\n",
    "                local_min_flag = false\n",
    "                break\n",
    "            end\n",
    "            sum += temp_sum\n",
    "        end\n",
    "        if local_min_flag\n",
    "            println(\"got to local min\")\n",
    "        end\n",
    "        \n",
    "    end\n",
    "    return sum\n",
    "end;"
   ]
  },
  {
   "cell_type": "code",
   "execution_count": 62,
   "id": "f6f894ce",
   "metadata": {},
   "outputs": [
    {
     "ename": "LoadError",
     "evalue": "OverflowError: binomial(100, 50) overflows",
     "output_type": "error",
     "traceback": [
      "OverflowError: binomial(100, 50) overflows",
      "",
      "Stacktrace:",
      " [1] binomial(n::Int64, k::Int64)",
      "   @ Base ./intfuncs.jl:1162",
      " [2] generate_binary_vectors(N::Int64)",
      "   @ Main ./In[5]:3",
      " [3] VMC_Hheisenberg_with_gutzwiller_projection_of_half_filled_fermi_sea_ansatz(N::Int64, steps::Int64)",
      "   @ Main ./In[44]:7",
      " [4] top-level scope",
      "   @ In[62]:1"
     ]
    }
   ],
   "source": [
    "res=VMC_Hheisenberg_with_gutzwiller_projection_of_half_filled_fermi_sea_ansatz(100,10000)"
   ]
  }
 ],
 "metadata": {
  "kernelspec": {
   "display_name": "Julia 1.10.2",
   "language": "julia",
   "name": "julia-1.10"
  },
  "language_info": {
   "file_extension": ".jl",
   "mimetype": "application/julia",
   "name": "julia",
   "version": "1.10.2"
  }
 },
 "nbformat": 4,
 "nbformat_minor": 5
}
